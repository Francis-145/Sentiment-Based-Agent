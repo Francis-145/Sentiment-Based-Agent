{
  "nbformat": 4,
  "nbformat_minor": 0,
  "metadata": {
    "colab": {
      "provenance": [],
      "gpuType": "T4"
    },
    "kernelspec": {
      "name": "python3",
      "display_name": "Python 3"
    },
    "language_info": {
      "name": "python"
    },
    "accelerator": "GPU"
  },
  "cells": [
    {
      "cell_type": "markdown",
      "source": [
        "# Install Required Libraries"
      ],
      "metadata": {
        "id": "ZZ9xYewCIdPS"
      }
    },
    {
      "cell_type": "code",
      "source": [
        "!pip install textblob nltk scikit-learn pandas numpy joblib\n",
        "\n",
        "# Download NLTK data\n",
        "import nltk\n",
        "nltk.download('punkt')\n",
        "nltk.download('stopwords')\n",
        "nltk.download('punkt_tab')"
      ],
      "metadata": {
        "colab": {
          "base_uri": "https://localhost:8080/"
        },
        "id": "oPtRUYUhIXGt",
        "outputId": "417bd455-be8b-4b32-fae9-8b95e0793853"
      },
      "execution_count": 2,
      "outputs": [
        {
          "output_type": "stream",
          "name": "stdout",
          "text": [
            "Requirement already satisfied: textblob in /usr/local/lib/python3.11/dist-packages (0.19.0)\n",
            "Requirement already satisfied: nltk in /usr/local/lib/python3.11/dist-packages (3.9.1)\n",
            "Requirement already satisfied: scikit-learn in /usr/local/lib/python3.11/dist-packages (1.6.1)\n",
            "Requirement already satisfied: pandas in /usr/local/lib/python3.11/dist-packages (2.2.2)\n",
            "Requirement already satisfied: numpy in /usr/local/lib/python3.11/dist-packages (2.0.2)\n",
            "Requirement already satisfied: joblib in /usr/local/lib/python3.11/dist-packages (1.5.1)\n",
            "Requirement already satisfied: click in /usr/local/lib/python3.11/dist-packages (from nltk) (8.2.1)\n",
            "Requirement already satisfied: regex>=2021.8.3 in /usr/local/lib/python3.11/dist-packages (from nltk) (2024.11.6)\n",
            "Requirement already satisfied: tqdm in /usr/local/lib/python3.11/dist-packages (from nltk) (4.67.1)\n",
            "Requirement already satisfied: scipy>=1.6.0 in /usr/local/lib/python3.11/dist-packages (from scikit-learn) (1.15.3)\n",
            "Requirement already satisfied: threadpoolctl>=3.1.0 in /usr/local/lib/python3.11/dist-packages (from scikit-learn) (3.6.0)\n",
            "Requirement already satisfied: python-dateutil>=2.8.2 in /usr/local/lib/python3.11/dist-packages (from pandas) (2.9.0.post0)\n",
            "Requirement already satisfied: pytz>=2020.1 in /usr/local/lib/python3.11/dist-packages (from pandas) (2025.2)\n",
            "Requirement already satisfied: tzdata>=2022.7 in /usr/local/lib/python3.11/dist-packages (from pandas) (2025.2)\n",
            "Requirement already satisfied: six>=1.5 in /usr/local/lib/python3.11/dist-packages (from python-dateutil>=2.8.2->pandas) (1.17.0)\n"
          ]
        },
        {
          "output_type": "stream",
          "name": "stderr",
          "text": [
            "[nltk_data] Downloading package punkt to /root/nltk_data...\n",
            "[nltk_data]   Package punkt is already up-to-date!\n",
            "[nltk_data] Downloading package stopwords to /root/nltk_data...\n",
            "[nltk_data]   Package stopwords is already up-to-date!\n",
            "[nltk_data] Downloading package punkt_tab to /root/nltk_data...\n",
            "[nltk_data]   Package punkt_tab is already up-to-date!\n"
          ]
        },
        {
          "output_type": "execute_result",
          "data": {
            "text/plain": [
              "True"
            ]
          },
          "metadata": {},
          "execution_count": 2
        }
      ]
    },
    {
      "cell_type": "markdown",
      "source": [
        "# Import Libraries and Setup"
      ],
      "metadata": {
        "id": "N_2zYeEPIjDv"
      }
    },
    {
      "cell_type": "code",
      "source": [
        "import pandas as pd\n",
        "import numpy as np\n",
        "from textblob import TextBlob\n",
        "import re\n",
        "import nltk\n",
        "from nltk.corpus import stopwords\n",
        "from nltk.tokenize import word_tokenize\n",
        "from sklearn.feature_extraction.text import TfidfVectorizer\n",
        "from sklearn.naive_bayes import MultinomialNB\n",
        "from sklearn.model_selection import train_test_split\n",
        "from sklearn.metrics import accuracy_score, classification_report, confusion_matrix\n",
        "import joblib\n",
        "from datetime import datetime\n",
        "import warnings\n",
        "import matplotlib.pyplot as plt\n",
        "import seaborn as sns\n",
        "\n",
        "warnings.filterwarnings('ignore')\n",
        "\n",
        "print(\"🤖 Sentiment-Based Email Responder AI Agent\")\n",
        "print(\"=\" * 50)\n",
        "print(\"Libraries imported successfully!\")"
      ],
      "metadata": {
        "colab": {
          "base_uri": "https://localhost:8080/"
        },
        "id": "w_WJ_Ok8IXD6",
        "outputId": "363002cc-d348-4118-dc27-f250a7a371a1"
      },
      "execution_count": 3,
      "outputs": [
        {
          "output_type": "stream",
          "name": "stdout",
          "text": [
            "🤖 Sentiment-Based Email Responder AI Agent\n",
            "==================================================\n",
            "Libraries imported successfully!\n"
          ]
        }
      ]
    },
    {
      "cell_type": "markdown",
      "source": [
        "# AI Agent Class Definition"
      ],
      "metadata": {
        "id": "v-iwrO7qIu4F"
      }
    },
    {
      "cell_type": "code",
      "source": [
        "class SentimentEmailResponder:\n",
        "    def __init__(self):\n",
        "        self.vectorizer = TfidfVectorizer(max_features=5000, stop_words='english')\n",
        "        self.sentiment_model = MultinomialNB()\n",
        "        self.is_trained = False\n",
        "\n",
        "        # Predefined response templates\n",
        "        self.response_templates = {\n",
        "            'positive': [\n",
        "                \"Thank you for your positive feedback! We're delighted to hear about your experience.\",\n",
        "                \"We appreciate your kind words! Your satisfaction is our top priority.\",\n",
        "                \"Thank you for choosing us! We're thrilled that you're happy with our service.\"\n",
        "            ],\n",
        "            'negative': [\n",
        "                \"We sincerely apologize for any inconvenience caused. We take your concerns seriously.\",\n",
        "                \"Thank you for bringing this to our attention. We're committed to resolving this issue promptly.\",\n",
        "                \"We understand your frustration and want to make this right. Please allow us to assist you further.\"\n",
        "            ],\n",
        "            'neutral': [\n",
        "                \"Thank you for contacting us. We've received your message and will respond accordingly.\",\n",
        "                \"We acknowledge your inquiry and will provide you with the necessary information.\",\n",
        "                \"Thank you for reaching out. We're here to help with any questions you may have.\"\n",
        "            ]\n",
        "        }\n",
        "\n",
        "    def preprocess_text(self, text):\n",
        "        \"\"\"Clean and preprocess email text\"\"\"\n",
        "        text = text.lower()\n",
        "        text = re.sub(r'\\S+@\\S+', '', text)  # Remove email addresses\n",
        "        text = re.sub(r'http\\S+|www\\S+', '', text)  # Remove URLs\n",
        "        text = re.sub(r'[^a-zA-Z\\s]', '', text)  # Remove special characters\n",
        "        text = ' '.join(text.split())  # Remove extra whitespace\n",
        "        return text\n",
        "\n",
        "    def analyze_sentiment(self, text):\n",
        "        \"\"\"Analyze sentiment using TextBlob\"\"\"\n",
        "        blob = TextBlob(text)\n",
        "        polarity = blob.sentiment.polarity\n",
        "\n",
        "        if polarity > 0.1:\n",
        "            return 'positive'\n",
        "        elif polarity < -0.1:\n",
        "            return 'negative'\n",
        "        else:\n",
        "            return 'neutral'\n",
        "\n",
        "    def create_sample_dataset(self):\n",
        "        \"\"\"Create a sample email dataset for training\"\"\"\n",
        "        emails = [\n",
        "            # Positive emails\n",
        "            \"Thank you so much for the excellent service! I'm very satisfied with your product.\",\n",
        "            \"Great job on the delivery! Everything arrived on time and in perfect condition.\",\n",
        "            \"I love your customer support team. They were very helpful and friendly.\",\n",
        "            \"Fantastic experience! Will definitely recommend to others.\",\n",
        "            \"Your service exceeded my expectations. Keep up the good work!\",\n",
        "            \"Amazing product quality! Exactly what I was looking for.\",\n",
        "            \"Outstanding customer service! You guys are the best.\",\n",
        "            \"Perfect transaction from start to finish. Very impressed!\",\n",
        "\n",
        "            # Negative emails\n",
        "            \"I'm very disappointed with your service. The product didn't work as expected.\",\n",
        "            \"This is unacceptable! My order was delayed and damaged.\",\n",
        "            \"Terrible customer service. No one responded to my complaints.\",\n",
        "            \"I want a full refund. This product is defective and useless.\",\n",
        "            \"Very poor quality. I will never buy from you again.\",\n",
        "            \"Worst experience ever! Everything went wrong with my order.\",\n",
        "            \"Completely unsatisfied with the product. Total waste of money.\",\n",
        "            \"Your service is horrible. I'm extremely frustrated and angry.\",\n",
        "\n",
        "            # Neutral emails\n",
        "            \"I need information about your return policy.\",\n",
        "            \"Can you please provide details about shipping costs?\",\n",
        "            \"What are your business hours?\",\n",
        "            \"I would like to inquire about your services.\",\n",
        "            \"Please send me a catalog of your products.\",\n",
        "            \"How long does standard shipping usually take?\",\n",
        "            \"Do you offer bulk discounts for large orders?\",\n",
        "            \"What payment methods do you accept?\"\n",
        "        ]\n",
        "\n",
        "        sentiments = ['positive'] * 8 + ['negative'] * 8 + ['neutral'] * 8\n",
        "\n",
        "        return pd.DataFrame({\n",
        "            'email_text': emails,\n",
        "            'sentiment': sentiments\n",
        "        })\n",
        "\n",
        "    def train_model(self, df=None):\n",
        "        \"\"\"Train the sentiment classification model\"\"\"\n",
        "        if df is None:\n",
        "            df = self.create_sample_dataset()\n",
        "\n",
        "        print(\"Training dataset:\")\n",
        "        print(df.head())\n",
        "        print(f\"\\nDataset shape: {df.shape}\")\n",
        "        print(f\"Sentiment distribution:\\n{df['sentiment'].value_counts()}\")\n",
        "\n",
        "        # Preprocess emails\n",
        "        df['processed_text'] = df['email_text'].apply(self.preprocess_text)\n",
        "\n",
        "        # Vectorize text\n",
        "        X = self.vectorizer.fit_transform(df['processed_text'])\n",
        "        y = df['sentiment']\n",
        "\n",
        "        # Split data\n",
        "        X_train, X_test, y_train, y_test = train_test_split(X, y, test_size=0.2, random_state=42)\n",
        "\n",
        "        # Train model\n",
        "        self.sentiment_model.fit(X_train, y_train)\n",
        "\n",
        "        # Evaluate model\n",
        "        y_pred = self.sentiment_model.predict(X_test)\n",
        "        accuracy = accuracy_score(y_test, y_pred)\n",
        "\n",
        "\n",
        "\n",
        "\n",
        "\n",
        "        self.is_trained = True\n",
        "        return accuracy\n",
        "\n",
        "    def predict_sentiment(self, email_text):\n",
        "        \"\"\"Predict sentiment of email text\"\"\"\n",
        "        if not self.is_trained:\n",
        "            print(\"Model not trained. Training with sample data...\")\n",
        "            self.train_model()\n",
        "\n",
        "        processed_text = self.preprocess_text(email_text)\n",
        "        vectorized_text = self.vectorizer.transform([processed_text])\n",
        "        predicted_sentiment = self.sentiment_model.predict(vectorized_text)[0]\n",
        "        confidence = self.sentiment_model.predict_proba(vectorized_text).max()\n",
        "\n",
        "        return predicted_sentiment, confidence\n",
        "\n",
        "    def generate_response(self, email_text, customer_name=\"Valued Customer\"):\n",
        "        \"\"\"Generate appropriate response based on email sentiment\"\"\"\n",
        "        sentiment, confidence = self.predict_sentiment(email_text)\n",
        "\n",
        "        # Select response template\n",
        "        import random\n",
        "        response_template = random.choice(self.response_templates[sentiment])\n",
        "\n",
        "        # Create personalized response\n",
        "        response = f\"Dear {customer_name},\\n\\n\"\n",
        "        response += response_template + \"\\n\\n\"\n",
        "\n",
        "        if sentiment == 'negative':\n",
        "            response += \"We would appreciate the opportunity to discuss this matter further. \"\n",
        "            response += \"Please don't hesitate to contact us at your convenience.\\n\\n\"\n",
        "        elif sentiment == 'positive':\n",
        "            response += \"Your feedback motivates us to continue providing excellent service.\\n\\n\"\n",
        "        else:\n",
        "            response += \"If you need any additional assistance, please feel free to reach out.\\n\\n\"\n",
        "\n",
        "        response += \"Best regards,\\nCustomer Service Team\\n\"\n",
        "        response += f\"Response generated on: {datetime.now().strftime('%Y-%m-%d %H:%M:%S')}\"\n",
        "\n",
        "        return {\n",
        "            'sentiment': sentiment,\n",
        "            'confidence': confidence,\n",
        "            'response': response\n",
        "        }\n",
        "\n",
        "print(\"✅ AI Agent class defined successfully!\")"
      ],
      "metadata": {
        "colab": {
          "base_uri": "https://localhost:8080/"
        },
        "id": "U2Gh41iFIXBm",
        "outputId": "c83726a4-8466-4194-9c91-f0f8067b703f"
      },
      "execution_count": 13,
      "outputs": [
        {
          "output_type": "stream",
          "name": "stdout",
          "text": [
            "✅ AI Agent class defined successfully!\n"
          ]
        }
      ]
    },
    {
      "cell_type": "markdown",
      "source": [
        "# Initialize and Train the AI Agent"
      ],
      "metadata": {
        "id": "_z6xRjuVJCX1"
      }
    },
    {
      "cell_type": "code",
      "source": [
        "# Initialize the AI agent\n",
        "agent = SentimentEmailResponder()\n",
        "\n"
      ],
      "metadata": {
        "id": "zQOXJjI2IW_x"
      },
      "execution_count": 11,
      "outputs": []
    },
    {
      "cell_type": "markdown",
      "source": [
        "# Demo with Sample Emails"
      ],
      "metadata": {
        "id": "PyZom9y3JNqt"
      }
    },
    {
      "cell_type": "code",
      "source": [
        "print(\"📧 TESTING WITH SAMPLE EMAILS\")\n",
        "print(\"=\" * 50)\n",
        "\n",
        "# Sample emails for demonstration\n",
        "test_emails = [\n",
        "    {\n",
        "        'email': \"Hi, I just received my order and I'm absolutely thrilled! The quality is amazing and it arrived faster than expected. Thank you so much!\",\n",
        "        'customer': \"Sarah Johnson\",\n",
        "        'expected': \"positive\"\n",
        "    },\n",
        "    {\n",
        "        'email': \"This is ridiculous! My package was supposed to arrive yesterday but it's still not here. I need this urgently and your tracking system is useless!\",\n",
        "        'customer': \"Mike Davis\",\n",
        "        'expected': \"negative\"\n",
        "    },\n",
        "    {\n",
        "        'email': \"Hello, I would like to know more about your warranty policy. Can you please provide me with detailed information?\",\n",
        "        'customer': \"Emma Wilson\",\n",
        "        'expected': \"neutral\"\n",
        "    },\n",
        "    {\n",
        "        'email': \"Outstanding service! The team went above and beyond to help me. I couldn't be happier with my purchase!\",\n",
        "        'customer': \"John Smith\",\n",
        "        'expected': \"positive\"\n",
        "    },\n",
        "    {\n",
        "        'email': \"I'm extremely disappointed. The product broke after just one day of use. This is completely unacceptable!\",\n",
        "        'customer': \"Lisa Brown\",\n",
        "        'expected': \"negative\"\n",
        "    }\n",
        "]\n",
        "\n",
        "correct_predictions = 0\n",
        "\n",
        "for i, email_data in enumerate(test_emails, 1):\n",
        "    print(f\"\\n📨 EMAIL {i}:\")\n",
        "    print(f\"From: {email_data['customer']}\")\n",
        "    print(f\"Content: {email_data['email']}\")\n",
        "\n",
        "    # Generate response\n",
        "    result = agent.generate_response(email_data['email'], email_data['customer'])\n",
        "\n",
        "    print(f\"\\n🎯 AI ANALYSIS:\")\n",
        "    print(f\"Predicted Sentiment: {result['sentiment'].upper()}\")\n",
        "    print(f\"Expected Sentiment: {email_data['expected'].upper()}\")\n",
        "\n",
        "\n",
        "    # Check prediction accuracy\n",
        "    if result['sentiment'] == email_data['expected']:\n",
        "        correct_predictions += 1\n",
        "        print(\"✅ Correct prediction!\")\n",
        "    else:\n",
        "        print(\"❌ Incorrect prediction\")\n",
        "\n",
        "    print(f\"\\n📝 GENERATED RESPONSE:\")\n",
        "    print(\"-\" * 40)\n",
        "    print(result['response'])\n",
        "    print(\"-\" * 40)\n",
        "\n",
        "print(f\"\\n📊 DEMO RESULTS:\")\n",
        "print(f\"Correct Predictions: {correct_predictions}/{len(test_emails)} ({correct_predictions/len(test_emails)*100:.1f}%)\")"
      ],
      "metadata": {
        "colab": {
          "base_uri": "https://localhost:8080/"
        },
        "id": "-KCw5yFUIW8A",
        "outputId": "3462828c-2cef-4898-ba98-74f6ca1fde7d"
      },
      "execution_count": 14,
      "outputs": [
        {
          "output_type": "stream",
          "name": "stdout",
          "text": [
            "📧 TESTING WITH SAMPLE EMAILS\n",
            "==================================================\n",
            "\n",
            "📨 EMAIL 1:\n",
            "From: Sarah Johnson\n",
            "Content: Hi, I just received my order and I'm absolutely thrilled! The quality is amazing and it arrived faster than expected. Thank you so much!\n",
            "\n",
            "🎯 AI ANALYSIS:\n",
            "Predicted Sentiment: POSITIVE\n",
            "Expected Sentiment: POSITIVE\n",
            "✅ Correct prediction!\n",
            "\n",
            "📝 GENERATED RESPONSE:\n",
            "----------------------------------------\n",
            "Dear Sarah Johnson,\n",
            "\n",
            "We appreciate your kind words! Your satisfaction is our top priority.\n",
            "\n",
            "Your feedback motivates us to continue providing excellent service.\n",
            "\n",
            "Best regards,\n",
            "Customer Service Team\n",
            "Response generated on: 2025-06-07 16:18:03\n",
            "----------------------------------------\n",
            "\n",
            "📨 EMAIL 2:\n",
            "From: Mike Davis\n",
            "Content: This is ridiculous! My package was supposed to arrive yesterday but it's still not here. I need this urgently and your tracking system is useless!\n",
            "\n",
            "🎯 AI ANALYSIS:\n",
            "Predicted Sentiment: POSITIVE\n",
            "Expected Sentiment: NEGATIVE\n",
            "❌ Incorrect prediction\n",
            "\n",
            "📝 GENERATED RESPONSE:\n",
            "----------------------------------------\n",
            "Dear Mike Davis,\n",
            "\n",
            "Thank you for choosing us! We're thrilled that you're happy with our service.\n",
            "\n",
            "Your feedback motivates us to continue providing excellent service.\n",
            "\n",
            "Best regards,\n",
            "Customer Service Team\n",
            "Response generated on: 2025-06-07 16:18:03\n",
            "----------------------------------------\n",
            "\n",
            "📨 EMAIL 3:\n",
            "From: Emma Wilson\n",
            "Content: Hello, I would like to know more about your warranty policy. Can you please provide me with detailed information?\n",
            "\n",
            "🎯 AI ANALYSIS:\n",
            "Predicted Sentiment: NEUTRAL\n",
            "Expected Sentiment: NEUTRAL\n",
            "✅ Correct prediction!\n",
            "\n",
            "📝 GENERATED RESPONSE:\n",
            "----------------------------------------\n",
            "Dear Emma Wilson,\n",
            "\n",
            "Thank you for reaching out. We're here to help with any questions you may have.\n",
            "\n",
            "If you need any additional assistance, please feel free to reach out.\n",
            "\n",
            "Best regards,\n",
            "Customer Service Team\n",
            "Response generated on: 2025-06-07 16:18:03\n",
            "----------------------------------------\n",
            "\n",
            "📨 EMAIL 4:\n",
            "From: John Smith\n",
            "Content: Outstanding service! The team went above and beyond to help me. I couldn't be happier with my purchase!\n",
            "\n",
            "🎯 AI ANALYSIS:\n",
            "Predicted Sentiment: POSITIVE\n",
            "Expected Sentiment: POSITIVE\n",
            "✅ Correct prediction!\n",
            "\n",
            "📝 GENERATED RESPONSE:\n",
            "----------------------------------------\n",
            "Dear John Smith,\n",
            "\n",
            "Thank you for your positive feedback! We're delighted to hear about your experience.\n",
            "\n",
            "Your feedback motivates us to continue providing excellent service.\n",
            "\n",
            "Best regards,\n",
            "Customer Service Team\n",
            "Response generated on: 2025-06-07 16:18:03\n",
            "----------------------------------------\n",
            "\n",
            "📨 EMAIL 5:\n",
            "From: Lisa Brown\n",
            "Content: I'm extremely disappointed. The product broke after just one day of use. This is completely unacceptable!\n",
            "\n",
            "🎯 AI ANALYSIS:\n",
            "Predicted Sentiment: NEGATIVE\n",
            "Expected Sentiment: NEGATIVE\n",
            "✅ Correct prediction!\n",
            "\n",
            "📝 GENERATED RESPONSE:\n",
            "----------------------------------------\n",
            "Dear Lisa Brown,\n",
            "\n",
            "We understand your frustration and want to make this right. Please allow us to assist you further.\n",
            "\n",
            "We would appreciate the opportunity to discuss this matter further. Please don't hesitate to contact us at your convenience.\n",
            "\n",
            "Best regards,\n",
            "Customer Service Team\n",
            "Response generated on: 2025-06-07 16:18:03\n",
            "----------------------------------------\n",
            "\n",
            "📊 DEMO RESULTS:\n",
            "Correct Predictions: 4/5 (80.0%)\n"
          ]
        }
      ]
    },
    {
      "cell_type": "markdown",
      "source": [
        "# Interactive Testing"
      ],
      "metadata": {
        "id": "D8cLtUMSJaY3"
      }
    },
    {
      "cell_type": "code",
      "source": [
        "def interactive_test():\n",
        "    \"\"\"Interactive function for testing custom emails\"\"\"\n",
        "    print(\"\\n🎮 INTERACTIVE MODE\")\n",
        "    print(\"=\" * 30)\n",
        "    print(\"Enter your own emails to test the AI agent!\")\n",
        "    print(\"Type 'quit' to stop\\n\")\n",
        "\n",
        "    while True:\n",
        "        user_email = input(\"📧 Enter email text: \")\n",
        "        if user_email.lower() == 'quit':\n",
        "            break\n",
        "\n",
        "        if user_email.strip():\n",
        "            customer_name = input(\"👤 Customer name (optional): \") or \"Valued Customer\"\n",
        "\n",
        "            result = agent.generate_response(user_email, customer_name)\n",
        "\n",
        "            print(f\"\\n🎯 Analysis:\")\n",
        "            print(f\"Sentiment: {result['sentiment'].upper()}\")\n",
        "            print(f\"Confidence: {result['confidence']:.1%}\")\n",
        "\n",
        "            print(f\"\\n📝 Generated Response:\")\n",
        "            print(\"-\" * 40)\n",
        "            print(result['response'])\n",
        "            print(\"-\" * 40)\n",
        "            print()\n",
        "\n",
        "\n",
        "interactive_test()\n"
      ],
      "metadata": {
        "colab": {
          "base_uri": "https://localhost:8080/"
        },
        "id": "1oip--glIWqO",
        "outputId": "ac76a8d3-2c54-4126-ff35-69178fe24259"
      },
      "execution_count": 7,
      "outputs": [
        {
          "name": "stdout",
          "output_type": "stream",
          "text": [
            "\n",
            "🎮 INTERACTIVE MODE\n",
            "==============================\n",
            "Enter your own emails to test the AI agent!\n",
            "Type 'quit' to stop\n",
            "\n",
            "📧 Enter email text: iam very happy about service\n",
            "👤 Customer name (optional): john\n",
            "\n",
            "🎯 Analysis:\n",
            "Sentiment: POSITIVE\n",
            "Confidence: 41.5%\n",
            "\n",
            "📝 Generated Response:\n",
            "----------------------------------------\n",
            "Dear john,\n",
            "\n",
            "We appreciate your kind words! Your satisfaction is our top priority.\n",
            "\n",
            "Your feedback motivates us to continue providing excellent service.\n",
            "\n",
            "Best regards,\n",
            "Customer Service Team\n",
            "Response generated on: 2025-06-07 16:12:12\n",
            "----------------------------------------\n",
            "\n",
            "📧 Enter email text: quit\n"
          ]
        }
      ]
    },
    {
      "cell_type": "markdown",
      "source": [
        "# Performance Analysis and Visualization"
      ],
      "metadata": {
        "id": "oaD3y-7AJqXc"
      }
    },
    {
      "cell_type": "code",
      "source": [
        "# Create a larger test dataset for performance analysis\n",
        "print(\"📈 PERFORMANCE ANALYSIS\")\n",
        "print(\"=\" * 30)\n",
        "\n",
        "# Generate additional test cases\n",
        "extended_test_emails = [\n",
        "    (\"Thank you for the amazing service!\", \"positive\"),\n",
        "    (\"This product is terrible!\", \"negative\"),\n",
        "    (\"What are your store hours?\", \"neutral\"),\n",
        "    (\"I love this company!\", \"positive\"),\n",
        "    (\"Worst customer service ever!\", \"negative\"),\n",
        "    (\"Can I get more information?\", \"neutral\"),\n",
        "    (\"Excellent quality and fast shipping!\", \"positive\"),\n",
        "    (\"I'm very unhappy with this purchase\", \"negative\"),\n",
        "    (\"Please send me a quote\", \"neutral\"),\n",
        "    (\"Best experience I've ever had!\", \"positive\")\n",
        "]\n",
        "\n",
        "# Test predictions\n",
        "predictions = []\n",
        "actual_sentiments = []\n",
        "confidences = []\n",
        "\n",
        "for email_text, actual_sentiment in extended_test_emails:\n",
        "    predicted_sentiment, confidence = agent.predict_sentiment(email_text)\n",
        "    predictions.append(predicted_sentiment)\n",
        "    actual_sentiments.append(actual_sentiment)\n",
        "    confidences.append(confidence)\n",
        "\n",
        "# Calculate accuracy\n",
        "accuracy = sum(1 for i in range(len(predictions)) if predictions[i] == actual_sentiments[i]) / len(predictions)\n",
        "print(f\"Extended Test Accuracy: {accuracy:.1%}\")\n",
        "\n",
        "# Visualize confidence scores\n",
        "plt.figure(figsize=(12, 5))\n",
        "\n",
        "plt.subplot(1, 2, 1)\n",
        "plt.hist(confidences, bins=10, alpha=0.7, color='skyblue', edgecolor='black')\n",
        "plt.title('Distribution of Confidence Scores')\n",
        "plt.xlabel('Confidence')\n",
        "plt.ylabel('Frequency')\n",
        "\n",
        "plt.subplot(1, 2, 2)\n",
        "sentiment_counts = pd.Series(predictions).value_counts()\n",
        "plt.pie(sentiment_counts.values, labels=sentiment_counts.index, autopct='%1.1f%%', startangle=90)\n",
        "plt.title('Distribution of Predicted Sentiments')\n",
        "\n",
        "plt.tight_layout()\n",
        "plt.show()"
      ],
      "metadata": {
        "colab": {
          "base_uri": "https://localhost:8080/",
          "height": 559
        },
        "id": "IU6EpDpXJnR-",
        "outputId": "5b1c9f90-e1aa-4c5b-a628-e2baec5910b4"
      },
      "execution_count": 8,
      "outputs": [
        {
          "output_type": "stream",
          "name": "stdout",
          "text": [
            "📈 PERFORMANCE ANALYSIS\n",
            "==============================\n",
            "Extended Test Accuracy: 70.0%\n"
          ]
        },
        {
          "output_type": "display_data",
          "data": {
            "text/plain": [
              "<Figure size 1200x500 with 2 Axes>"
            ],
            "image/png": "[encoded data removed]"
          },
          "metadata": {}
        }
      ]
    },
    {
      "cell_type": "markdown",
      "source": [
        "# Business Impact Analysis"
      ],
      "metadata": {
        "id": "g_Mr5CtTJ1uG"
      }
    },
    {
      "cell_type": "code",
      "source": [
        "print(\"💼 BUSINESS IMPACT ANALYSIS\")\n",
        "print(\"=\" * 35)\n",
        "\n",
        "# Simulate business metrics\n",
        "emails_per_day = 1000\n",
        "manual_response_time_minutes = 30\n",
        "ai_response_time_seconds = 1\n",
        "cost_per_hour_human = 20\n",
        "\n",
        "# Calculate savings\n",
        "manual_time_hours = (emails_per_day * manual_response_time_minutes) / 60\n",
        "ai_time_hours = (emails_per_day * ai_response_time_seconds) / 3600\n",
        "time_saved_hours = manual_time_hours - ai_time_hours\n",
        "cost_savings_daily = time_saved_hours * cost_per_hour_human\n",
        "\n",
        "print(f\"📊 Daily Metrics (for {emails_per_day} emails):\")\n",
        "print(f\"Manual Processing Time: {manual_time_hours:.1f} hours\")\n",
        "print(f\"AI Processing Time: {ai_time_hours:.2f} hours\")\n",
        "print(f\"Time Saved: {time_saved_hours:.1f} hours ({(time_saved_hours/manual_time_hours)*100:.1f}%)\")\n",
        "print(f\"Daily Cost Savings: ${cost_savings_daily:.2f}\")\n",
        "print(f\"Annual Cost Savings: ${cost_savings_daily * 365:.2f}\")\n",
        "\n",
        "# Create visualization\n",
        "metrics = ['Manual Time', 'AI Time']\n",
        "times = [manual_time_hours, ai_time_hours]\n",
        "\n",
        "plt.figure(figsize=(10, 6))\n",
        "plt.bar(metrics, times, color=['red', 'green'], alpha=0.7)\n",
        "plt.title('Processing Time Comparison')\n",
        "plt.ylabel('Hours per Day')\n",
        "plt.show()"
      ],
      "metadata": {
        "colab": {
          "base_uri": "https://localhost:8080/",
          "height": 684
        },
        "id": "xnpV2-9fJy_E",
        "outputId": "0f26c161-7784-44b6-ecc2-054003524424"
      },
      "execution_count": 9,
      "outputs": [
        {
          "output_type": "stream",
          "name": "stdout",
          "text": [
            "💼 BUSINESS IMPACT ANALYSIS\n",
            "===================================\n",
            "📊 Daily Metrics (for 1000 emails):\n",
            "Manual Processing Time: 500.0 hours\n",
            "AI Processing Time: 0.28 hours\n",
            "Time Saved: 499.7 hours (99.9%)\n",
            "Daily Cost Savings: $9994.44\n",
            "Annual Cost Savings: $3647972.22\n"
          ]
        },
        {
          "output_type": "display_data",
          "data": {
            "text/plain": [
              "<Figure size 1000x600 with 1 Axes>"
            ],
            "image/png": "[encoded data removed]"
          },
          "metadata": {}
        }
      ]
    },
    {
      "cell_type": "markdown",
      "source": [
        "# Model Persistence and Deployment"
      ],
      "metadata": {
        "id": "4nyjgNx5KAFU"
      }
    },
    {
      "cell_type": "code",
      "source": [
        "print(\"💾 MODEL PERSISTENCE\")\n",
        "print(\"=\" * 25)\n",
        "\n",
        "# Save the trained model\n",
        "model_filename = 'sentiment_email_model.pkl'\n",
        "joblib.dump({\n",
        "    'model': agent.sentiment_model,\n",
        "    'vectorizer': agent.vectorizer,\n",
        "    'response_templates': agent.response_templates\n",
        "}, model_filename)\n",
        "\n",
        "print(f\"✅ Model saved as {model_filename}\")\n",
        "\n",
        "# Demonstrate loading the model\n",
        "def load_and_test_model(filename):\n",
        "    \"\"\"Load saved model and test it\"\"\"\n",
        "    try:\n",
        "        loaded_data = joblib.load(filename)\n",
        "\n",
        "        # Create new agent instance\n",
        "        new_agent = SentimentEmailResponder()\n",
        "        new_agent.sentiment_model = loaded_data['model']\n",
        "        new_agent.vectorizer = loaded_data['vectorizer']\n",
        "        new_agent.response_templates = loaded_data['response_templates']\n",
        "        new_agent.is_trained = True\n",
        "\n",
        "        # Test loaded model\n",
        "        test_email = \"Thank you for the excellent service!\"\n",
        "        result = new_agent.generate_response(test_email)\n",
        "\n",
        "        print(f\"✅ Model loaded successfully!\")\n",
        "        print(f\"Test prediction: {result['sentiment']} (confidence: {result['confidence']:.2f})\")\n",
        "\n",
        "        return new_agent\n",
        "\n",
        "    except Exception as e:\n",
        "        print(f\"❌ Error loading model: {e}\")\n",
        "        return None\n",
        "\n",
        "# Test model loading\n",
        "loaded_agent = load_and_test_model(model_filename)"
      ],
      "metadata": {
        "colab": {
          "base_uri": "https://localhost:8080/"
        },
        "id": "LtuehEliJyxB",
        "outputId": "e6ca5af5-1d4a-41dd-d366-aca0b6a8a564"
      },
      "execution_count": 10,
      "outputs": [
        {
          "output_type": "stream",
          "name": "stdout",
          "text": [
            "💾 MODEL PERSISTENCE\n",
            "=========================\n",
            "✅ Model saved as sentiment_email_model.pkl\n",
            "✅ Model loaded successfully!\n",
            "Test prediction: positive (confidence: 0.38)\n"
          ]
        }
      ]
    }
  ]
}